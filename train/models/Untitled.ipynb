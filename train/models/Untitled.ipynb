{
 "cells": [
  {
   "cell_type": "code",
   "execution_count": 1,
   "id": "a96c9d68-7b57-48c6-b5d3-897ca626b534",
   "metadata": {},
   "outputs": [],
   "source": [
    "import torch"
   ]
  },
  {
   "cell_type": "code",
   "execution_count": 16,
   "id": "484aec13-2024-402b-8824-37d24b355f03",
   "metadata": {},
   "outputs": [],
   "source": [
    "x = torch.ones(8,5)"
   ]
  },
  {
   "cell_type": "code",
   "execution_count": 6,
   "id": "ce9b6247-3365-48c2-a5dd-2d91f230659c",
   "metadata": {},
   "outputs": [],
   "source": [
    "y = torch.zeros(3,5)"
   ]
  },
  {
   "cell_type": "code",
   "execution_count": 8,
   "id": "9a58be58-bac3-4715-8ff9-409f7820c057",
   "metadata": {},
   "outputs": [
    {
     "data": {
      "text/plain": [
       "tensor([[4.9278, 4.9278, 4.9278],\n",
       "        [3.8447, 3.8447, 3.8447],\n",
       "        [3.9754, 3.9754, 3.9754],\n",
       "        [3.2520, 3.2520, 3.2520],\n",
       "        [1.1601, 1.1601, 1.1601],\n",
       "        [6.0956, 6.0956, 6.0956],\n",
       "        [3.1934, 3.1934, 3.1934],\n",
       "        [3.1607, 3.1607, 3.1607]])"
      ]
     },
     "execution_count": 8,
     "metadata": {},
     "output_type": "execute_result"
    }
   ],
   "source": [
    "torch.cdist(x,y,p=1)"
   ]
  },
  {
   "cell_type": "code",
   "execution_count": 17,
   "id": "da2401eb-faa8-4601-afdc-56b3c4e60c8e",
   "metadata": {},
   "outputs": [],
   "source": [
    "x = x.unsqueeze(1)"
   ]
  },
  {
   "cell_type": "code",
   "execution_count": 18,
   "id": "4b608118-434d-4399-86aa-f75658a62260",
   "metadata": {},
   "outputs": [
    {
     "data": {
      "text/plain": [
       "torch.Size([8, 1, 5])"
      ]
     },
     "execution_count": 18,
     "metadata": {},
     "output_type": "execute_result"
    }
   ],
   "source": [
    "x.shape"
   ]
  },
  {
   "cell_type": "code",
   "execution_count": 19,
   "id": "93be35b4-8ffd-42bd-8a33-a299fcb3c414",
   "metadata": {},
   "outputs": [],
   "source": [
    "x = x.contiguous()"
   ]
  },
  {
   "cell_type": "code",
   "execution_count": 20,
   "id": "bd8b87ea-7ea7-4185-a183-c03e51d19424",
   "metadata": {},
   "outputs": [
    {
     "data": {
      "text/plain": [
       "torch.Size([8, 1, 5])"
      ]
     },
     "execution_count": 20,
     "metadata": {},
     "output_type": "execute_result"
    }
   ],
   "source": [
    "x.shape"
   ]
  },
  {
   "cell_type": "code",
   "execution_count": 21,
   "id": "ce562d99-8d80-4940-b94e-c43e75c41ed9",
   "metadata": {},
   "outputs": [],
   "source": [
    "x = torch.rand(1)"
   ]
  },
  {
   "cell_type": "code",
   "execution_count": 22,
   "id": "41c57c8b-c9fe-4eff-a98f-4d8b2cf0d436",
   "metadata": {},
   "outputs": [
    {
     "data": {
      "text/plain": [
       "tensor([0.9562])"
      ]
     },
     "execution_count": 22,
     "metadata": {},
     "output_type": "execute_result"
    }
   ],
   "source": [
    "x\n"
   ]
  },
  {
   "cell_type": "code",
   "execution_count": 24,
   "id": "5737073d-0735-4d72-b452-8a0172cb909b",
   "metadata": {},
   "outputs": [
    {
     "data": {
      "text/plain": [
       "torch.Size([1, 1])"
      ]
     },
     "execution_count": 24,
     "metadata": {},
     "output_type": "execute_result"
    }
   ],
   "source": [
    "x.unsqueeze(-1).shape"
   ]
  },
  {
   "cell_type": "code",
   "execution_count": 25,
   "id": "d19b5aa4-b1b3-400a-82cd-c1db947c67f3",
   "metadata": {},
   "outputs": [],
   "source": [
    "from scipy.optimize import linear_sum_assignment"
   ]
  },
  {
   "cell_type": "code",
   "execution_count": 27,
   "id": "fe0d4edd-4b13-4d61-b952-6cf0043ab1df",
   "metadata": {},
   "outputs": [
    {
     "ename": "TypeError",
     "evalue": "linear_sum_assignment() missing 1 required positional argument: 'cost_matrix'",
     "output_type": "error",
     "traceback": [
      "\u001b[0;31m---------------------------------------------------------------------------\u001b[0m",
      "\u001b[0;31mTypeError\u001b[0m                                 Traceback (most recent call last)",
      "\u001b[0;32m/tmp/ipykernel_1706417/395652404.py\u001b[0m in \u001b[0;36m<module>\u001b[0;34m\u001b[0m\n\u001b[0;32m----> 1\u001b[0;31m \u001b[0mlinear_sum_assignment\u001b[0m\u001b[0;34m(\u001b[0m\u001b[0;34m)\u001b[0m\u001b[0;34m\u001b[0m\u001b[0;34m\u001b[0m\u001b[0m\n\u001b[0m",
      "\u001b[0;31mTypeError\u001b[0m: linear_sum_assignment() missing 1 required positional argument: 'cost_matrix'"
     ]
    }
   ],
   "source": [
    "linear_sum_assignment()"
   ]
  },
  {
   "cell_type": "code",
   "execution_count": null,
   "id": "de705a43-00e5-4d6f-b632-d09a8561271d",
   "metadata": {},
   "outputs": [],
   "source": []
  }
 ],
 "metadata": {
  "kernelspec": {
   "display_name": "jupyter-pytorch",
   "language": "python",
   "name": "jupyter-pytorch"
  },
  "language_info": {
   "codemirror_mode": {
    "name": "ipython",
    "version": 3
   },
   "file_extension": ".py",
   "mimetype": "text/x-python",
   "name": "python",
   "nbconvert_exporter": "python",
   "pygments_lexer": "ipython3",
   "version": "3.7.11"
  }
 },
 "nbformat": 4,
 "nbformat_minor": 5
}
